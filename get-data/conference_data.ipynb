{
 "cells": [
  {
   "cell_type": "code",
   "execution_count": null,
   "metadata": {},
   "outputs": [],
   "source": [
    "# Dependencies and Setup\n",
    "import matplotlib.pyplot as plt\n",
    "import pandas as pd\n",
    "import numpy as np\n",
    "import requests\n",
    "import time\n",
    "import json\n",
    "from pprint import pprint\n",
    "\n",
    "# Import API key\n",
    "import api_keys"
   ]
  },
  {
   "cell_type": "markdown",
   "metadata": {},
   "source": [
    "# Get List of Conferences and Teams\n"
   ]
  },
  {
   "cell_type": "code",
   "execution_count": 60,
   "metadata": {},
   "outputs": [
    {
     "name": "stdout",
     "output_type": "stream",
     "text": [
      "Pulled JSON from \n",
      "https://api.sportradar.us/ncaamb/trial/v4/en/league/hierarchy.json?api_key=dzsdr8tp6f3sxcmwuzacchwn\n"
     ]
    }
   ],
   "source": [
    "# Get API Key from local file\n",
    "api_key = 'dzsdr8tp6f3sxcmwuzacchwn'\n",
    "\n",
    "# Construct url for API call\n",
    "access_level = 'trial'\n",
    "version = 'v4'\n",
    "language_code = 'en'\n",
    "data_format = 'json'\n",
    "leagueHeirarchyUrl = f\"https://api.sportradar.us/ncaamb/{access_level}/{version}/\" + \\\n",
    "    f\"{language_code}/league/hierarchy.{data_format}?api_key={api_key}\"\n",
    "\n",
    "\n",
    "# Request data for constructing team list from API endpoint\n",
    "raw_data = requests.get(leagueHeirarchyUrl).json()\n",
    "print(f\"Pulled JSON from \\n{leagueHeirarchyUrl}\")"
   ]
  },
  {
   "cell_type": "code",
   "execution_count": 63,
   "metadata": {},
   "outputs": [
    {
     "name": "stdout",
     "output_type": "stream",
     "text": [
      "[{'conference': 'Pacific 12',\n",
      "  'conference id': '04d5255d-b2dc-43df-9fa8-d296b0f8ccd7',\n",
      "  'id': '0d037a5d-827a-44dd-8b70-57603d671d5d',\n",
      "  'school_name': 'Utah',\n",
      "  'team_name': 'Utes'},\n",
      " {'conference': 'Pacific 12',\n",
      "  'conference id': '04d5255d-b2dc-43df-9fa8-d296b0f8ccd7',\n",
      "  'id': '1da70895-f77f-44ef-b216-d63c02e696eb',\n",
      "  'school_name': 'Oregon',\n",
      "  'team_name': 'Ducks'}]\n"
     ]
    }
   ],
   "source": [
    "# Build list of Conference IDs and Names and corresponding Teams \n",
    "\n",
    "team_ids = []\n",
    "for division in raw_data['divisions']:\n",
    "    if (division['name']=='NCAA Division I'):\n",
    "        for conference in division['conferences']:\n",
    "            for team in conference['teams']:\n",
    "                team_ids.append({\n",
    "                    \"id\":          team['id'],\n",
    "                    \"school_name\": team['market'],\n",
    "                    \"team_name\":   team['name'],\n",
    "                    \"conference id\": conference['id'],\n",
    "                    \"conference\":  conference['name']\n",
    "                })\n",
    "\n",
    "pprint(team_ids[:2])"
   ]
  },
  {
   "cell_type": "code",
   "execution_count": 64,
   "metadata": {},
   "outputs": [
    {
     "name": "stdout",
     "output_type": "stream",
     "text": [
      "************************************************\n",
      "Saved returned data to conferenceswithteams.txt\n"
     ]
    }
   ],
   "source": [
    "# Set name of output data file\n",
    "output_data_file = \"conferenceswithteams.txt\"\n",
    "\n",
    "with open(output_data_file, 'w') as outfile:  \n",
    "    json.dump(team_ids, outfile)\n",
    "    print('************************************************')\n",
    "    print(f\"Saved returned data to {output_data_file}\")"
   ]
  }
 ],
 "metadata": {
  "kernelspec": {
   "display_name": "Python 3",
   "language": "python",
   "name": "python3"
  },
  "language_info": {
   "codemirror_mode": {
    "name": "ipython",
    "version": 3
   },
   "file_extension": ".py",
   "mimetype": "text/x-python",
   "name": "python",
   "nbconvert_exporter": "python",
   "pygments_lexer": "ipython3",
   "version": "3.7.0"
  }
 },
 "nbformat": 4,
 "nbformat_minor": 2
}
