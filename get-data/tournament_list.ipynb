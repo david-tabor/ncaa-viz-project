{
 "cells": [
  {
   "cell_type": "code",
   "execution_count": 1,
   "metadata": {
    "scrolled": true
   },
   "outputs": [],
   "source": [
    "# Dependencies and Setup\n",
    "import matplotlib.pyplot as plt\n",
    "import pandas as pd\n",
    "import numpy as np\n",
    "import requests\n",
    "import time\n",
    "import json\n",
    "from pprint import pprint\n",
    "\n",
    "# Import API key\n",
    "import api_keys"
   ]
  },
  {
   "cell_type": "markdown",
   "metadata": {},
   "source": [
    "## Build Tournament List"
   ]
  },
  {
   "cell_type": "code",
   "execution_count": 2,
   "metadata": {
    "scrolled": true
   },
   "outputs": [
    {
     "name": "stdout",
     "output_type": "stream",
     "text": [
      "Pulled JSON from \n",
      "https://api.sportradar.us/ncaamb/trial/v4/en/tournaments/2018/PST/schedule.json?api_key=dzsdr8tp6f3sxcmwuzacchwn\n"
     ]
    }
   ],
   "source": [
    "# Get API Key from local file\n",
    "your_api_key = api_keys.api_key\n",
    "\n",
    "# Construct url for API call\n",
    "access_level = 'trial'\n",
    "version = 'v4'\n",
    "language_code = 'en'\n",
    "season_year = '2018'\n",
    "ncaamb_season = 'PST'\n",
    "format = 'json'\n",
    "tournamentlistUrl = f\"https://api.sportradar.us/ncaamb/{access_level}/{version}/\" + \\\n",
    "    f\"{language_code}/tournaments/{season_year}/{ncaamb_season}/schedule.{format}?api_key={your_api_key}\"\n",
    "\n",
    "\n",
    "# Request data for constructing team list from API endpoint\n",
    "raw_data = requests.get(tournamentlistUrl).json()\n",
    "print(f\"Pulled JSON from \\n{tournamentlistUrl}\")"
   ]
  },
  {
   "cell_type": "code",
   "execution_count": 3,
   "metadata": {},
   "outputs": [
    {
     "name": "stdout",
     "output_type": "stream",
     "text": [
      "{'league': {'alias': 'NCAAM',\n",
      "            'id': 'cd4268ee-07aa-4c4d-a435-ec44ad2c76cb',\n",
      "            'name': 'NCAA MEN'},\n",
      " 'season': {'id': 'c10c84fa-777a-4263-91fe-b42e64ee2180',\n",
      "            'type': 'PST',\n",
      "            'year': 2018},\n",
      " 'tournaments': [{'end_date': '2019-04-08',\n",
      "                  'id': '54d32815-c385-4266-8248-34b1b22fe2f7',\n",
      "                  'location': 'Minneapolis, MN, USA',\n",
      "                  'name': \"NCAA Men's Division I Basketball Tournament\",\n",
      "                  'start_date': '2019-03-19',\n",
      "                  'status': 'inprogress'},\n",
      "                 {'end_date': '2019-04-04',\n",
      "                  'id': '6721322f-2c50-4048-b7d1-478ed68eff9d',\n",
      "                  'location': 'New York, NY, USA',\n",
      "                  'name': 'NIT',\n",
      "                  'start_date': '2019-03-19',\n",
      "                  'status': 'inprogress'},\n",
      "                 {'end_date': '2019-04-05',\n",
      "                  'id': 'f08ec538-b224-42f2-8197-711defb85795',\n",
      "                  'location': 'Campus Sites',\n",
      "                  'name': 'CIT',\n",
      "                  'start_date': '2019-03-18',\n",
      "                  'status': 'closed'},\n",
      "                 {'end_date': '2019-04-05',\n",
      "                  'id': 'ffa5bb97-dbca-4685-87d3-a59e51701ccb',\n",
      "                  'location': 'Campus Sites',\n",
      "                  'name': 'CBI',\n",
      "                  'start_date': '2019-03-19',\n",
      "                  'status': 'inprogress'}]}\n"
     ]
    }
   ],
   "source": [
    "pprint(raw_data)"
   ]
  },
  {
   "cell_type": "code",
   "execution_count": 4,
   "metadata": {},
   "outputs": [],
   "source": [
    "# Build list of tournament ids to use when calling API for tournament statistics\n",
    "\n",
    "tournament_ids = []\n",
    "for tournament in raw_data['tournaments']:\n",
    "    tournament_ids.append({\n",
    "                    \"tournament_id\":  tournament['id'],\n",
    "                    \"name\":        tournament['name'],\n",
    "                    \"start_date\":  tournament['start_date'],\n",
    "                    \"end_date\":    tournament['end_date']\n",
    "                })\n"
   ]
  },
  {
   "cell_type": "code",
   "execution_count": 5,
   "metadata": {},
   "outputs": [
    {
     "name": "stdout",
     "output_type": "stream",
     "text": [
      "[{'end_date': '2019-04-08',\n",
      "  'name': \"NCAA Men's Division I Basketball Tournament\",\n",
      "  'start_date': '2019-03-19',\n",
      "  'tournament_id': '54d32815-c385-4266-8248-34b1b22fe2f7'},\n",
      " {'end_date': '2019-04-04',\n",
      "  'name': 'NIT',\n",
      "  'start_date': '2019-03-19',\n",
      "  'tournament_id': '6721322f-2c50-4048-b7d1-478ed68eff9d'}]\n"
     ]
    }
   ],
   "source": [
    "pprint(tournament_ids[:2])"
   ]
  },
  {
   "cell_type": "markdown",
   "metadata": {},
   "source": [
    "## Set output file name and query selected NCAA tournament stats from API"
   ]
  },
  {
   "cell_type": "code",
   "execution_count": 6,
   "metadata": {},
   "outputs": [],
   "source": [
    "# Set name of output data file\n",
    "tournament_data_file = \"march_madness_stats.txt\""
   ]
  },
  {
   "cell_type": "code",
   "execution_count": 11,
   "metadata": {},
   "outputs": [
    {
     "name": "stdout",
     "output_type": "stream",
     "text": [
      "Response received for NCAA Men's Division I Basketball Tournament\n",
      "https://api.sportradar.us/ncaamb/trial/v4/en/tournaments/54d32815-c385-4266-8248-34b1b22fe2f7/summary.json?api_key=dzsdr8tp6f3sxcmwuzacchwn\n",
      "Response received for NIT\n",
      "https://api.sportradar.us/ncaamb/trial/v4/en/tournaments/6721322f-2c50-4048-b7d1-478ed68eff9d/summary.json?api_key=dzsdr8tp6f3sxcmwuzacchwn\n",
      "Response received for CIT\n",
      "https://api.sportradar.us/ncaamb/trial/v4/en/tournaments/f08ec538-b224-42f2-8197-711defb85795/summary.json?api_key=dzsdr8tp6f3sxcmwuzacchwn\n",
      "Response received for CBI\n",
      "https://api.sportradar.us/ncaamb/trial/v4/en/tournaments/ffa5bb97-dbca-4685-87d3-a59e51701ccb/summary.json?api_key=dzsdr8tp6f3sxcmwuzacchwn\n"
     ]
    }
   ],
   "source": [
    "# Get API Key from local file\n",
    "your_api_key = api_keys.api_key\n",
    "\n",
    "# Construct url for API call\n",
    "access_level = 'trial'\n",
    "version = 'v4'\n",
    "language_code = 'en'\n",
    "tournament_id = ''\n",
    "format = 'json'\n",
    "\n",
    "# Iterate through team_ids and pull seasonal data for each\n",
    "tournament_data = []\n",
    "for tournament in tournament_ids:\n",
    "         \n",
    "    # Build URL for team-specific API call\n",
    "    tournament_id = tournament['tournament_id']\n",
    "    url = f\"https://api.sportradar.us/ncaamb/{access_level}/{version}/{language_code}/tournaments/\" + \\\n",
    "    f\"{tournament_id}/summary.{format}?api_key={your_api_key}\"\n",
    "\n",
    "    # Make request to API\n",
    "    response = requests.get(url)\n",
    "    if (response.status_code == 200):\n",
    "        print(f\"Response received for {tournament['name']}\")\n",
    "        tournament_data.append(response.json())\n",
    "        time.sleep(1)\n",
    "    else:\n",
    "        print(f\"Request FAILED for {tournament['name']}\")\n",
    "\n",
    "    print(url)   "
   ]
  },
  {
   "cell_type": "code",
   "execution_count": 12,
   "metadata": {},
   "outputs": [
    {
     "name": "stdout",
     "output_type": "stream",
     "text": [
      "************************************************\n",
      "Saved returned data to march_madness_stats.txt\n"
     ]
    }
   ],
   "source": [
    "with open(tournament_data_file, 'w') as outfile:  \n",
    "    json.dump(tournament_data, outfile)\n",
    "    print('************************************************')\n",
    "    print(f\"Saved returned data to {tournament_data_file}\")"
   ]
  }
 ],
 "metadata": {
  "anaconda-cloud": {},
  "kernelspec": {
   "display_name": "Python 3",
   "language": "python",
   "name": "python3"
  },
  "language_info": {
   "codemirror_mode": {
    "name": "ipython",
    "version": 3
   },
   "file_extension": ".py",
   "mimetype": "text/x-python",
   "name": "python",
   "nbconvert_exporter": "python",
   "pygments_lexer": "ipython3",
   "version": "3.7.0"
  }
 },
 "nbformat": 4,
 "nbformat_minor": 2
}
